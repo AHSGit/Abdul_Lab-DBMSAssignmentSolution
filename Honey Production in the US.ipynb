{
 "cells": [
  {
   "cell_type": "markdown",
   "id": "b11fb6fb",
   "metadata": {
    "id": "b11fb6fb"
   },
   "source": [
    "# Table of Content\n",
    "\n",
    "- Basic data exploration\n",
    "- Types of Variables\n",
    "- Univariate Analysis\n",
    "  - Measures of Central Tendency\n",
    "  - Measures of dispersion\n",
    "- Univariate Analysis using Visualization\n",
    "  - Categorical Variable\n",
    "  - Numerical Variable\n",
    "    "
   ]
  },
  {
   "cell_type": "markdown",
   "id": "3c1fb501",
   "metadata": {
    "id": "3c1fb501"
   },
   "source": [
    "## Data Analysis in Python"
   ]
  },
  {
   "cell_type": "markdown",
   "id": "354e1866",
   "metadata": {
    "id": "354e1866"
   },
   "source": [
    "### Dataset - Honey Production\n",
    "\n",
    "Source Credit : https://www.kaggle.com/jessicali9530/honey-production\n",
    "\n",
    "#### Context\n",
    "In 2006, global concern was raised over the rapid decline in the honeybee population, an integral component to American honey agriculture. Large numbers of hives were lost to Colony Collapse Disorder, a phenomenon of disappearing worker bees causing the remaining hive colony to collapse. Speculation to the cause of this disorder points to hive diseases and pesticides harming the pollinators, though no overall consensus has been reached. Twelve years later, some industries are observing recovery but the American honey industry is still largely struggling. The U.S. used to locally produce over half the honey it consumes per year. Now, honey mostly comes from overseas, with 350 of the 400 million pounds of honey consumed every year originating from imports. This dataset provides insight into honey production supply and demand in America by state from 1998 to 2012.\n",
    "\n",
    "#### Attribute Information\n",
    "  - numcol: Number of honey producing colonies. Honey producing colonies are the maximum number of colonies from which honey was taken during the year. It is possible to take honey from colonies which did not survive the entire year\n",
    "  - yieldpercol: Honey yield per colony. Unit is pounds\n",
    "  - totalprod: Total production (numcol x yieldpercol). Unit is pounds\n",
    "  - stocks: Refers to stocks held by producers. Unit is pounds\n",
    "  - priceperlb: Refers to average price per pound based on expanded sales. Unit is dollars.\n",
    "  - prodvalue: Value of production (totalprod x priceperlb). Unit is dollars.\n",
    "  - Other useful information: Certain states are excluded every year (ex. CT) to avoid disclosing data for individual operations. Due to rounding, total colonies multiplied by total yield may not equal production. Also, summation of states will not equal U.S. level value of production."
   ]
  },
  {
   "cell_type": "markdown",
   "id": "9f77792e",
   "metadata": {
    "id": "9f77792e"
   },
   "source": [
    "####  Import required libraries"
   ]
  },
  {
   "cell_type": "code",
   "execution_count": 1,
   "id": "55b2918e",
   "metadata": {
    "id": "55b2918e"
   },
   "outputs": [],
   "source": [
    "import pandas as pd\n",
    "import numpy as np\n",
    "import seaborn as sns\n",
    "import matplotlib.pyplot as plt\n",
    "%matplotlib inline\n",
    "import warnings\n",
    "warnings.filterwarnings('ignore')"
   ]
  },
  {
   "cell_type": "markdown",
   "id": "cb2f0784",
   "metadata": {
    "id": "cb2f0784"
   },
   "source": [
    "#### Load the dataset"
   ]
  },
  {
   "cell_type": "code",
   "execution_count": 2,
   "id": "bba8de87",
   "metadata": {
    "id": "bba8de87"
   },
   "outputs": [
    {
     "data": {
      "text/html": [
       "<div>\n",
       "<style scoped>\n",
       "    .dataframe tbody tr th:only-of-type {\n",
       "        vertical-align: middle;\n",
       "    }\n",
       "\n",
       "    .dataframe tbody tr th {\n",
       "        vertical-align: top;\n",
       "    }\n",
       "\n",
       "    .dataframe thead th {\n",
       "        text-align: right;\n",
       "    }\n",
       "</style>\n",
       "<table border=\"1\" class=\"dataframe\">\n",
       "  <thead>\n",
       "    <tr style=\"text-align: right;\">\n",
       "      <th></th>\n",
       "      <th>state</th>\n",
       "      <th>numcol</th>\n",
       "      <th>yieldpercol</th>\n",
       "      <th>totalprod</th>\n",
       "      <th>stocks</th>\n",
       "      <th>priceperlb</th>\n",
       "      <th>prodvalue</th>\n",
       "      <th>year</th>\n",
       "    </tr>\n",
       "  </thead>\n",
       "  <tbody>\n",
       "    <tr>\n",
       "      <th>0</th>\n",
       "      <td>AL</td>\n",
       "      <td>16000.0</td>\n",
       "      <td>71</td>\n",
       "      <td>1136000.0</td>\n",
       "      <td>159000.0</td>\n",
       "      <td>0.72</td>\n",
       "      <td>818000.0</td>\n",
       "      <td>1998</td>\n",
       "    </tr>\n",
       "    <tr>\n",
       "      <th>1</th>\n",
       "      <td>AZ</td>\n",
       "      <td>55000.0</td>\n",
       "      <td>60</td>\n",
       "      <td>3300000.0</td>\n",
       "      <td>1485000.0</td>\n",
       "      <td>0.64</td>\n",
       "      <td>2112000.0</td>\n",
       "      <td>1998</td>\n",
       "    </tr>\n",
       "    <tr>\n",
       "      <th>2</th>\n",
       "      <td>AR</td>\n",
       "      <td>53000.0</td>\n",
       "      <td>65</td>\n",
       "      <td>3445000.0</td>\n",
       "      <td>1688000.0</td>\n",
       "      <td>0.59</td>\n",
       "      <td>2033000.0</td>\n",
       "      <td>1998</td>\n",
       "    </tr>\n",
       "    <tr>\n",
       "      <th>3</th>\n",
       "      <td>CA</td>\n",
       "      <td>450000.0</td>\n",
       "      <td>83</td>\n",
       "      <td>37350000.0</td>\n",
       "      <td>12326000.0</td>\n",
       "      <td>0.62</td>\n",
       "      <td>23157000.0</td>\n",
       "      <td>1998</td>\n",
       "    </tr>\n",
       "    <tr>\n",
       "      <th>4</th>\n",
       "      <td>CO</td>\n",
       "      <td>27000.0</td>\n",
       "      <td>72</td>\n",
       "      <td>1944000.0</td>\n",
       "      <td>1594000.0</td>\n",
       "      <td>0.70</td>\n",
       "      <td>1361000.0</td>\n",
       "      <td>1998</td>\n",
       "    </tr>\n",
       "  </tbody>\n",
       "</table>\n",
       "</div>"
      ],
      "text/plain": [
       "  state    numcol  yieldpercol   totalprod      stocks  priceperlb  \\\n",
       "0    AL   16000.0           71   1136000.0    159000.0        0.72   \n",
       "1    AZ   55000.0           60   3300000.0   1485000.0        0.64   \n",
       "2    AR   53000.0           65   3445000.0   1688000.0        0.59   \n",
       "3    CA  450000.0           83  37350000.0  12326000.0        0.62   \n",
       "4    CO   27000.0           72   1944000.0   1594000.0        0.70   \n",
       "\n",
       "    prodvalue  year  \n",
       "0    818000.0  1998  \n",
       "1   2112000.0  1998  \n",
       "2   2033000.0  1998  \n",
       "3  23157000.0  1998  \n",
       "4   1361000.0  1998  "
      ]
     },
     "execution_count": 2,
     "metadata": {},
     "output_type": "execute_result"
    }
   ],
   "source": [
    "df = pd.read_csv('honeyproduction.csv')\n",
    "df.head()"
   ]
  },
  {
   "cell_type": "markdown",
   "id": "b38e4e0d",
   "metadata": {
    "id": "b38e4e0d"
   },
   "source": [
    "## 1. Explore the data"
   ]
  },
  {
   "cell_type": "code",
   "execution_count": 3,
   "id": "345f08cb",
   "metadata": {
    "colab": {
     "base_uri": "https://localhost:8080/"
    },
    "executionInfo": {
     "elapsed": 354,
     "status": "ok",
     "timestamp": 1651216216782,
     "user": {
      "displayName": "Vikas HM",
      "userId": "18207387345907596827"
     },
     "user_tz": -330
    },
    "id": "345f08cb",
    "outputId": "bf802652-abcb-4416-ba26-f7f8b8be81f6"
   },
   "outputs": [
    {
     "data": {
      "text/plain": [
       "(626, 8)"
      ]
     },
     "execution_count": 3,
     "metadata": {},
     "output_type": "execute_result"
    }
   ],
   "source": [
    "df.shape # shape method can be used to check the exact shape of data"
   ]
  },
  {
   "cell_type": "code",
   "execution_count": 4,
   "id": "f2ef239c",
   "metadata": {
    "colab": {
     "base_uri": "https://localhost:8080/"
    },
    "executionInfo": {
     "elapsed": 3,
     "status": "ok",
     "timestamp": 1651216218175,
     "user": {
      "displayName": "Vikas HM",
      "userId": "18207387345907596827"
     },
     "user_tz": -330
    },
    "id": "f2ef239c",
    "outputId": "99d65b12-3084-4187-edaf-c489f55e977f"
   },
   "outputs": [
    {
     "data": {
      "text/plain": [
       "state           44\n",
       "numcol         148\n",
       "yieldpercol     95\n",
       "totalprod      517\n",
       "stocks         500\n",
       "priceperlb     210\n",
       "prodvalue      589\n",
       "year            15\n",
       "dtype: int64"
      ]
     },
     "execution_count": 4,
     "metadata": {},
     "output_type": "execute_result"
    }
   ],
   "source": [
    "df.nunique() #nuniques() function provides the total number of uniques values present in each feature"
   ]
  },
  {
   "cell_type": "code",
   "execution_count": null,
   "id": "8d802f56",
   "metadata": {
    "colab": {
     "base_uri": "https://localhost:8080/"
    },
    "executionInfo": {
     "elapsed": 3,
     "status": "ok",
     "timestamp": 1651216219556,
     "user": {
      "displayName": "Vikas HM",
      "userId": "18207387345907596827"
     },
     "user_tz": -330
    },
    "id": "8d802f56",
    "outputId": "42213583-0b4b-4749-ce96-9f6d35ebebc4"
   },
   "outputs": [
    {
     "data": {
      "text/plain": [
       "Index(['state', 'numcol', 'yieldpercol', 'totalprod', 'stocks', 'priceperlb',\n",
       "       'prodvalue', 'year'],\n",
       "      dtype='object')"
      ]
     },
     "execution_count": 6,
     "metadata": {},
     "output_type": "execute_result"
    }
   ],
   "source": [
    "df.columns # 'columns' method provides name of each column"
   ]
  },
  {
   "cell_type": "code",
   "execution_count": 5,
   "id": "a87b0a98",
   "metadata": {
    "colab": {
     "base_uri": "https://localhost:8080/"
    },
    "executionInfo": {
     "elapsed": 3,
     "status": "ok",
     "timestamp": 1651216220934,
     "user": {
      "displayName": "Vikas HM",
      "userId": "18207387345907596827"
     },
     "user_tz": -330
    },
    "id": "a87b0a98",
    "outputId": "56b1a439-42b7-4f73-a732-d1f88dda6e35"
   },
   "outputs": [
    {
     "name": "stdout",
     "output_type": "stream",
     "text": [
      "<class 'pandas.core.frame.DataFrame'>\n",
      "RangeIndex: 626 entries, 0 to 625\n",
      "Data columns (total 8 columns):\n",
      " #   Column       Non-Null Count  Dtype  \n",
      "---  ------       --------------  -----  \n",
      " 0   state        626 non-null    object \n",
      " 1   numcol       626 non-null    float64\n",
      " 2   yieldpercol  626 non-null    int64  \n",
      " 3   totalprod    626 non-null    float64\n",
      " 4   stocks       626 non-null    float64\n",
      " 5   priceperlb   626 non-null    float64\n",
      " 6   prodvalue    626 non-null    float64\n",
      " 7   year         626 non-null    int64  \n",
      "dtypes: float64(5), int64(2), object(1)\n",
      "memory usage: 39.2+ KB\n"
     ]
    }
   ],
   "source": [
    "df.info() #info() function gives information about each feature such as no. of samples(rows), no. of columns along with their data types"
   ]
  },
  {
   "cell_type": "markdown",
   "id": "97f790ad",
   "metadata": {
    "id": "97f790ad"
   },
   "source": [
    "- There are 626 entries and 8 columns\n",
    "- There is one object type column\n",
    "- There are no null values\n",
    "----------------------"
   ]
  },
  {
   "cell_type": "markdown",
   "id": "RrdSyIvGo3NT",
   "metadata": {
    "id": "RrdSyIvGo3NT"
   },
   "source": [
    "## 2. Types of Variables"
   ]
  },
  {
   "cell_type": "markdown",
   "id": "0fd41b1e",
   "metadata": {
    "id": "0fd41b1e"
   },
   "source": [
    "#### 2.1 Numerical variables\n",
    "- if it can assume an infinite number of real values within a given interval. "
   ]
  },
  {
   "cell_type": "code",
   "execution_count": 6,
   "id": "a600f9dc",
   "metadata": {
    "colab": {
     "base_uri": "https://localhost:8080/",
     "height": 206
    },
    "executionInfo": {
     "elapsed": 379,
     "status": "ok",
     "timestamp": 1651216228721,
     "user": {
      "displayName": "Vikas HM",
      "userId": "18207387345907596827"
     },
     "user_tz": -330
    },
    "id": "a600f9dc",
    "outputId": "eaa16ff2-bb2c-4bb9-810f-10aa624e0070"
   },
   "outputs": [
    {
     "data": {
      "text/html": [
       "<div>\n",
       "<style scoped>\n",
       "    .dataframe tbody tr th:only-of-type {\n",
       "        vertical-align: middle;\n",
       "    }\n",
       "\n",
       "    .dataframe tbody tr th {\n",
       "        vertical-align: top;\n",
       "    }\n",
       "\n",
       "    .dataframe thead th {\n",
       "        text-align: right;\n",
       "    }\n",
       "</style>\n",
       "<table border=\"1\" class=\"dataframe\">\n",
       "  <thead>\n",
       "    <tr style=\"text-align: right;\">\n",
       "      <th></th>\n",
       "      <th>numcol</th>\n",
       "      <th>yieldpercol</th>\n",
       "      <th>totalprod</th>\n",
       "      <th>stocks</th>\n",
       "      <th>priceperlb</th>\n",
       "      <th>prodvalue</th>\n",
       "      <th>year</th>\n",
       "    </tr>\n",
       "  </thead>\n",
       "  <tbody>\n",
       "    <tr>\n",
       "      <th>0</th>\n",
       "      <td>16000.0</td>\n",
       "      <td>71</td>\n",
       "      <td>1136000.0</td>\n",
       "      <td>159000.0</td>\n",
       "      <td>0.72</td>\n",
       "      <td>818000.0</td>\n",
       "      <td>1998</td>\n",
       "    </tr>\n",
       "    <tr>\n",
       "      <th>1</th>\n",
       "      <td>55000.0</td>\n",
       "      <td>60</td>\n",
       "      <td>3300000.0</td>\n",
       "      <td>1485000.0</td>\n",
       "      <td>0.64</td>\n",
       "      <td>2112000.0</td>\n",
       "      <td>1998</td>\n",
       "    </tr>\n",
       "    <tr>\n",
       "      <th>2</th>\n",
       "      <td>53000.0</td>\n",
       "      <td>65</td>\n",
       "      <td>3445000.0</td>\n",
       "      <td>1688000.0</td>\n",
       "      <td>0.59</td>\n",
       "      <td>2033000.0</td>\n",
       "      <td>1998</td>\n",
       "    </tr>\n",
       "    <tr>\n",
       "      <th>3</th>\n",
       "      <td>450000.0</td>\n",
       "      <td>83</td>\n",
       "      <td>37350000.0</td>\n",
       "      <td>12326000.0</td>\n",
       "      <td>0.62</td>\n",
       "      <td>23157000.0</td>\n",
       "      <td>1998</td>\n",
       "    </tr>\n",
       "    <tr>\n",
       "      <th>4</th>\n",
       "      <td>27000.0</td>\n",
       "      <td>72</td>\n",
       "      <td>1944000.0</td>\n",
       "      <td>1594000.0</td>\n",
       "      <td>0.70</td>\n",
       "      <td>1361000.0</td>\n",
       "      <td>1998</td>\n",
       "    </tr>\n",
       "  </tbody>\n",
       "</table>\n",
       "</div>"
      ],
      "text/plain": [
       "     numcol  yieldpercol   totalprod      stocks  priceperlb   prodvalue  year\n",
       "0   16000.0           71   1136000.0    159000.0        0.72    818000.0  1998\n",
       "1   55000.0           60   3300000.0   1485000.0        0.64   2112000.0  1998\n",
       "2   53000.0           65   3445000.0   1688000.0        0.59   2033000.0  1998\n",
       "3  450000.0           83  37350000.0  12326000.0        0.62  23157000.0  1998\n",
       "4   27000.0           72   1944000.0   1594000.0        0.70   1361000.0  1998"
      ]
     },
     "execution_count": 6,
     "metadata": {},
     "output_type": "execute_result"
    }
   ],
   "source": [
    "df.select_dtypes(include=np.number).head() #shows only columns with numerical attributes"
   ]
  },
  {
   "cell_type": "code",
   "execution_count": null,
   "id": "948a4e7c",
   "metadata": {
    "colab": {
     "base_uri": "https://localhost:8080/",
     "height": 269
    },
    "executionInfo": {
     "elapsed": 369,
     "status": "ok",
     "timestamp": 1651216231237,
     "user": {
      "displayName": "Vikas HM",
      "userId": "18207387345907596827"
     },
     "user_tz": -330
    },
    "id": "948a4e7c",
    "outputId": "8cae82da-679a-44a9-eb67-ade8ac6c263c"
   },
   "outputs": [
    {
     "data": {
      "text/html": [
       "\n",
       "  <div id=\"df-592a5792-7eba-457a-8942-ce5ac88dbc12\">\n",
       "    <div class=\"colab-df-container\">\n",
       "      <div>\n",
       "<style scoped>\n",
       "    .dataframe tbody tr th:only-of-type {\n",
       "        vertical-align: middle;\n",
       "    }\n",
       "\n",
       "    .dataframe tbody tr th {\n",
       "        vertical-align: top;\n",
       "    }\n",
       "\n",
       "    .dataframe thead th {\n",
       "        text-align: right;\n",
       "    }\n",
       "</style>\n",
       "<table border=\"1\" class=\"dataframe\">\n",
       "  <thead>\n",
       "    <tr style=\"text-align: right;\">\n",
       "      <th></th>\n",
       "      <th>count</th>\n",
       "      <th>mean</th>\n",
       "      <th>std</th>\n",
       "      <th>min</th>\n",
       "      <th>25%</th>\n",
       "      <th>50%</th>\n",
       "      <th>75%</th>\n",
       "      <th>max</th>\n",
       "    </tr>\n",
       "  </thead>\n",
       "  <tbody>\n",
       "    <tr>\n",
       "      <th>numcol</th>\n",
       "      <td>626.0</td>\n",
       "      <td>6.028435e+04</td>\n",
       "      <td>9.107709e+04</td>\n",
       "      <td>2000.00</td>\n",
       "      <td>9000.0000</td>\n",
       "      <td>26000.00</td>\n",
       "      <td>63750.00</td>\n",
       "      <td>510000.00</td>\n",
       "    </tr>\n",
       "    <tr>\n",
       "      <th>yieldpercol</th>\n",
       "      <td>626.0</td>\n",
       "      <td>6.200958e+01</td>\n",
       "      <td>1.945875e+01</td>\n",
       "      <td>19.00</td>\n",
       "      <td>48.0000</td>\n",
       "      <td>60.00</td>\n",
       "      <td>74.00</td>\n",
       "      <td>136.00</td>\n",
       "    </tr>\n",
       "    <tr>\n",
       "      <th>totalprod</th>\n",
       "      <td>626.0</td>\n",
       "      <td>4.169086e+06</td>\n",
       "      <td>6.883847e+06</td>\n",
       "      <td>84000.00</td>\n",
       "      <td>475000.0000</td>\n",
       "      <td>1533000.00</td>\n",
       "      <td>4175250.00</td>\n",
       "      <td>46410000.00</td>\n",
       "    </tr>\n",
       "    <tr>\n",
       "      <th>stocks</th>\n",
       "      <td>626.0</td>\n",
       "      <td>1.318859e+06</td>\n",
       "      <td>2.272964e+06</td>\n",
       "      <td>8000.00</td>\n",
       "      <td>143000.0000</td>\n",
       "      <td>439500.00</td>\n",
       "      <td>1489500.00</td>\n",
       "      <td>13800000.00</td>\n",
       "    </tr>\n",
       "    <tr>\n",
       "      <th>priceperlb</th>\n",
       "      <td>626.0</td>\n",
       "      <td>1.409569e+00</td>\n",
       "      <td>6.385989e-01</td>\n",
       "      <td>0.49</td>\n",
       "      <td>0.9325</td>\n",
       "      <td>1.36</td>\n",
       "      <td>1.68</td>\n",
       "      <td>4.15</td>\n",
       "    </tr>\n",
       "    <tr>\n",
       "      <th>prodvalue</th>\n",
       "      <td>626.0</td>\n",
       "      <td>4.715741e+06</td>\n",
       "      <td>7.976110e+06</td>\n",
       "      <td>162000.00</td>\n",
       "      <td>759250.0000</td>\n",
       "      <td>1841500.00</td>\n",
       "      <td>4703250.00</td>\n",
       "      <td>69615000.00</td>\n",
       "    </tr>\n",
       "    <tr>\n",
       "      <th>year</th>\n",
       "      <td>626.0</td>\n",
       "      <td>2.004864e+03</td>\n",
       "      <td>4.317306e+00</td>\n",
       "      <td>1998.00</td>\n",
       "      <td>2001.0000</td>\n",
       "      <td>2005.00</td>\n",
       "      <td>2009.00</td>\n",
       "      <td>2012.00</td>\n",
       "    </tr>\n",
       "  </tbody>\n",
       "</table>\n",
       "</div>\n",
       "      <button class=\"colab-df-convert\" onclick=\"convertToInteractive('df-592a5792-7eba-457a-8942-ce5ac88dbc12')\"\n",
       "              title=\"Convert this dataframe to an interactive table.\"\n",
       "              style=\"display:none;\">\n",
       "        \n",
       "  <svg xmlns=\"http://www.w3.org/2000/svg\" height=\"24px\"viewBox=\"0 0 24 24\"\n",
       "       width=\"24px\">\n",
       "    <path d=\"M0 0h24v24H0V0z\" fill=\"none\"/>\n",
       "    <path d=\"M18.56 5.44l.94 2.06.94-2.06 2.06-.94-2.06-.94-.94-2.06-.94 2.06-2.06.94zm-11 1L8.5 8.5l.94-2.06 2.06-.94-2.06-.94L8.5 2.5l-.94 2.06-2.06.94zm10 10l.94 2.06.94-2.06 2.06-.94-2.06-.94-.94-2.06-.94 2.06-2.06.94z\"/><path d=\"M17.41 7.96l-1.37-1.37c-.4-.4-.92-.59-1.43-.59-.52 0-1.04.2-1.43.59L10.3 9.45l-7.72 7.72c-.78.78-.78 2.05 0 2.83L4 21.41c.39.39.9.59 1.41.59.51 0 1.02-.2 1.41-.59l7.78-7.78 2.81-2.81c.8-.78.8-2.07 0-2.86zM5.41 20L4 18.59l7.72-7.72 1.47 1.35L5.41 20z\"/>\n",
       "  </svg>\n",
       "      </button>\n",
       "      \n",
       "  <style>\n",
       "    .colab-df-container {\n",
       "      display:flex;\n",
       "      flex-wrap:wrap;\n",
       "      gap: 12px;\n",
       "    }\n",
       "\n",
       "    .colab-df-convert {\n",
       "      background-color: #E8F0FE;\n",
       "      border: none;\n",
       "      border-radius: 50%;\n",
       "      cursor: pointer;\n",
       "      display: none;\n",
       "      fill: #1967D2;\n",
       "      height: 32px;\n",
       "      padding: 0 0 0 0;\n",
       "      width: 32px;\n",
       "    }\n",
       "\n",
       "    .colab-df-convert:hover {\n",
       "      background-color: #E2EBFA;\n",
       "      box-shadow: 0px 1px 2px rgba(60, 64, 67, 0.3), 0px 1px 3px 1px rgba(60, 64, 67, 0.15);\n",
       "      fill: #174EA6;\n",
       "    }\n",
       "\n",
       "    [theme=dark] .colab-df-convert {\n",
       "      background-color: #3B4455;\n",
       "      fill: #D2E3FC;\n",
       "    }\n",
       "\n",
       "    [theme=dark] .colab-df-convert:hover {\n",
       "      background-color: #434B5C;\n",
       "      box-shadow: 0px 1px 3px 1px rgba(0, 0, 0, 0.15);\n",
       "      filter: drop-shadow(0px 1px 2px rgba(0, 0, 0, 0.3));\n",
       "      fill: #FFFFFF;\n",
       "    }\n",
       "  </style>\n",
       "\n",
       "      <script>\n",
       "        const buttonEl =\n",
       "          document.querySelector('#df-592a5792-7eba-457a-8942-ce5ac88dbc12 button.colab-df-convert');\n",
       "        buttonEl.style.display =\n",
       "          google.colab.kernel.accessAllowed ? 'block' : 'none';\n",
       "\n",
       "        async function convertToInteractive(key) {\n",
       "          const element = document.querySelector('#df-592a5792-7eba-457a-8942-ce5ac88dbc12');\n",
       "          const dataTable =\n",
       "            await google.colab.kernel.invokeFunction('convertToInteractive',\n",
       "                                                     [key], {});\n",
       "          if (!dataTable) return;\n",
       "\n",
       "          const docLinkHtml = 'Like what you see? Visit the ' +\n",
       "            '<a target=\"_blank\" href=https://colab.research.google.com/notebooks/data_table.ipynb>data table notebook</a>'\n",
       "            + ' to learn more about interactive tables.';\n",
       "          element.innerHTML = '';\n",
       "          dataTable['output_type'] = 'display_data';\n",
       "          await google.colab.output.renderOutput(dataTable, element);\n",
       "          const docLink = document.createElement('div');\n",
       "          docLink.innerHTML = docLinkHtml;\n",
       "          element.appendChild(docLink);\n",
       "        }\n",
       "      </script>\n",
       "    </div>\n",
       "  </div>\n",
       "  "
      ],
      "text/plain": [
       "             count          mean           std        min          25%  \\\n",
       "numcol       626.0  6.028435e+04  9.107709e+04    2000.00    9000.0000   \n",
       "yieldpercol  626.0  6.200958e+01  1.945875e+01      19.00      48.0000   \n",
       "totalprod    626.0  4.169086e+06  6.883847e+06   84000.00  475000.0000   \n",
       "stocks       626.0  1.318859e+06  2.272964e+06    8000.00  143000.0000   \n",
       "priceperlb   626.0  1.409569e+00  6.385989e-01       0.49       0.9325   \n",
       "prodvalue    626.0  4.715741e+06  7.976110e+06  162000.00  759250.0000   \n",
       "year         626.0  2.004864e+03  4.317306e+00    1998.00    2001.0000   \n",
       "\n",
       "                    50%         75%          max  \n",
       "numcol         26000.00    63750.00    510000.00  \n",
       "yieldpercol       60.00       74.00       136.00  \n",
       "totalprod    1533000.00  4175250.00  46410000.00  \n",
       "stocks        439500.00  1489500.00  13800000.00  \n",
       "priceperlb         1.36        1.68         4.15  \n",
       "prodvalue    1841500.00  4703250.00  69615000.00  \n",
       "year            2005.00     2009.00      2012.00  "
      ]
     },
     "execution_count": 9,
     "metadata": {},
     "output_type": "execute_result"
    }
   ],
   "source": [
    "df.select_dtypes(include=np.number).describe().T"
   ]
  },
  {
   "cell_type": "markdown",
   "id": "4nXZnBj7B9Ni",
   "metadata": {
    "id": "4nXZnBj7B9Ni"
   },
   "source": [
    "- Here, year can be considered as a discrete feature. It ranges from 1998 to 2012 and can take only certain values.\n",
    "- And all other features can be considered as continuous features"
   ]
  },
  {
   "cell_type": "markdown",
   "id": "e7b74624",
   "metadata": {
    "id": "e7b74624"
   },
   "source": [
    "- Minimum number of honey producing colonies is 2000 and maximum is 51000\n",
    "- Honey yield per colony ranges from 19 pounds to 136 pounds\n",
    "- The average honey yeild per colony is around 62 pounds\n",
    "- The minimum average price per pound is 0.49 dollars and maximum is 4.15 dollars"
   ]
  },
  {
   "cell_type": "markdown",
   "id": "2f5dc068",
   "metadata": {
    "id": "2f5dc068"
   },
   "source": [
    "#### 2.2 Categorical Variables\n",
    "- qualitative in nature and can't be measured."
   ]
  },
  {
   "cell_type": "code",
   "execution_count": null,
   "id": "04e50267",
   "metadata": {
    "colab": {
     "base_uri": "https://localhost:8080/",
     "height": 206
    },
    "executionInfo": {
     "elapsed": 355,
     "status": "ok",
     "timestamp": 1651216246611,
     "user": {
      "displayName": "Vikas HM",
      "userId": "18207387345907596827"
     },
     "user_tz": -330
    },
    "id": "04e50267",
    "outputId": "f4d1fd89-9490-4563-9c4e-d5209ddbc20b"
   },
   "outputs": [
    {
     "data": {
      "text/html": [
       "\n",
       "  <div id=\"df-f9ccb9f8-3032-458c-a1d3-a2f336a6c042\">\n",
       "    <div class=\"colab-df-container\">\n",
       "      <div>\n",
       "<style scoped>\n",
       "    .dataframe tbody tr th:only-of-type {\n",
       "        vertical-align: middle;\n",
       "    }\n",
       "\n",
       "    .dataframe tbody tr th {\n",
       "        vertical-align: top;\n",
       "    }\n",
       "\n",
       "    .dataframe thead th {\n",
       "        text-align: right;\n",
       "    }\n",
       "</style>\n",
       "<table border=\"1\" class=\"dataframe\">\n",
       "  <thead>\n",
       "    <tr style=\"text-align: right;\">\n",
       "      <th></th>\n",
       "      <th>state</th>\n",
       "    </tr>\n",
       "  </thead>\n",
       "  <tbody>\n",
       "    <tr>\n",
       "      <th>0</th>\n",
       "      <td>AL</td>\n",
       "    </tr>\n",
       "    <tr>\n",
       "      <th>1</th>\n",
       "      <td>AZ</td>\n",
       "    </tr>\n",
       "    <tr>\n",
       "      <th>2</th>\n",
       "      <td>AR</td>\n",
       "    </tr>\n",
       "    <tr>\n",
       "      <th>3</th>\n",
       "      <td>CA</td>\n",
       "    </tr>\n",
       "    <tr>\n",
       "      <th>4</th>\n",
       "      <td>CO</td>\n",
       "    </tr>\n",
       "  </tbody>\n",
       "</table>\n",
       "</div>\n",
       "      <button class=\"colab-df-convert\" onclick=\"convertToInteractive('df-f9ccb9f8-3032-458c-a1d3-a2f336a6c042')\"\n",
       "              title=\"Convert this dataframe to an interactive table.\"\n",
       "              style=\"display:none;\">\n",
       "        \n",
       "  <svg xmlns=\"http://www.w3.org/2000/svg\" height=\"24px\"viewBox=\"0 0 24 24\"\n",
       "       width=\"24px\">\n",
       "    <path d=\"M0 0h24v24H0V0z\" fill=\"none\"/>\n",
       "    <path d=\"M18.56 5.44l.94 2.06.94-2.06 2.06-.94-2.06-.94-.94-2.06-.94 2.06-2.06.94zm-11 1L8.5 8.5l.94-2.06 2.06-.94-2.06-.94L8.5 2.5l-.94 2.06-2.06.94zm10 10l.94 2.06.94-2.06 2.06-.94-2.06-.94-.94-2.06-.94 2.06-2.06.94z\"/><path d=\"M17.41 7.96l-1.37-1.37c-.4-.4-.92-.59-1.43-.59-.52 0-1.04.2-1.43.59L10.3 9.45l-7.72 7.72c-.78.78-.78 2.05 0 2.83L4 21.41c.39.39.9.59 1.41.59.51 0 1.02-.2 1.41-.59l7.78-7.78 2.81-2.81c.8-.78.8-2.07 0-2.86zM5.41 20L4 18.59l7.72-7.72 1.47 1.35L5.41 20z\"/>\n",
       "  </svg>\n",
       "      </button>\n",
       "      \n",
       "  <style>\n",
       "    .colab-df-container {\n",
       "      display:flex;\n",
       "      flex-wrap:wrap;\n",
       "      gap: 12px;\n",
       "    }\n",
       "\n",
       "    .colab-df-convert {\n",
       "      background-color: #E8F0FE;\n",
       "      border: none;\n",
       "      border-radius: 50%;\n",
       "      cursor: pointer;\n",
       "      display: none;\n",
       "      fill: #1967D2;\n",
       "      height: 32px;\n",
       "      padding: 0 0 0 0;\n",
       "      width: 32px;\n",
       "    }\n",
       "\n",
       "    .colab-df-convert:hover {\n",
       "      background-color: #E2EBFA;\n",
       "      box-shadow: 0px 1px 2px rgba(60, 64, 67, 0.3), 0px 1px 3px 1px rgba(60, 64, 67, 0.15);\n",
       "      fill: #174EA6;\n",
       "    }\n",
       "\n",
       "    [theme=dark] .colab-df-convert {\n",
       "      background-color: #3B4455;\n",
       "      fill: #D2E3FC;\n",
       "    }\n",
       "\n",
       "    [theme=dark] .colab-df-convert:hover {\n",
       "      background-color: #434B5C;\n",
       "      box-shadow: 0px 1px 3px 1px rgba(0, 0, 0, 0.15);\n",
       "      filter: drop-shadow(0px 1px 2px rgba(0, 0, 0, 0.3));\n",
       "      fill: #FFFFFF;\n",
       "    }\n",
       "  </style>\n",
       "\n",
       "      <script>\n",
       "        const buttonEl =\n",
       "          document.querySelector('#df-f9ccb9f8-3032-458c-a1d3-a2f336a6c042 button.colab-df-convert');\n",
       "        buttonEl.style.display =\n",
       "          google.colab.kernel.accessAllowed ? 'block' : 'none';\n",
       "\n",
       "        async function convertToInteractive(key) {\n",
       "          const element = document.querySelector('#df-f9ccb9f8-3032-458c-a1d3-a2f336a6c042');\n",
       "          const dataTable =\n",
       "            await google.colab.kernel.invokeFunction('convertToInteractive',\n",
       "                                                     [key], {});\n",
       "          if (!dataTable) return;\n",
       "\n",
       "          const docLinkHtml = 'Like what you see? Visit the ' +\n",
       "            '<a target=\"_blank\" href=https://colab.research.google.com/notebooks/data_table.ipynb>data table notebook</a>'\n",
       "            + ' to learn more about interactive tables.';\n",
       "          element.innerHTML = '';\n",
       "          dataTable['output_type'] = 'display_data';\n",
       "          await google.colab.output.renderOutput(dataTable, element);\n",
       "          const docLink = document.createElement('div');\n",
       "          docLink.innerHTML = docLinkHtml;\n",
       "          element.appendChild(docLink);\n",
       "        }\n",
       "      </script>\n",
       "    </div>\n",
       "  </div>\n",
       "  "
      ],
      "text/plain": [
       "  state\n",
       "0    AL\n",
       "1    AZ\n",
       "2    AR\n",
       "3    CA\n",
       "4    CO"
      ]
     },
     "execution_count": 10,
     "metadata": {},
     "output_type": "execute_result"
    }
   ],
   "source": [
    "df.select_dtypes(include='object').head()"
   ]
  },
  {
   "cell_type": "code",
   "execution_count": null,
   "id": "fd6c21a5",
   "metadata": {
    "colab": {
     "base_uri": "https://localhost:8080/",
     "height": 81
    },
    "executionInfo": {
     "elapsed": 591,
     "status": "ok",
     "timestamp": 1651216249668,
     "user": {
      "displayName": "Vikas HM",
      "userId": "18207387345907596827"
     },
     "user_tz": -330
    },
    "id": "fd6c21a5",
    "outputId": "33025045-4afc-44b0-d280-603dc783ea20"
   },
   "outputs": [
    {
     "data": {
      "text/html": [
       "\n",
       "  <div id=\"df-8ff6d6bf-3d66-4589-9126-83b77a7d4a77\">\n",
       "    <div class=\"colab-df-container\">\n",
       "      <div>\n",
       "<style scoped>\n",
       "    .dataframe tbody tr th:only-of-type {\n",
       "        vertical-align: middle;\n",
       "    }\n",
       "\n",
       "    .dataframe tbody tr th {\n",
       "        vertical-align: top;\n",
       "    }\n",
       "\n",
       "    .dataframe thead th {\n",
       "        text-align: right;\n",
       "    }\n",
       "</style>\n",
       "<table border=\"1\" class=\"dataframe\">\n",
       "  <thead>\n",
       "    <tr style=\"text-align: right;\">\n",
       "      <th></th>\n",
       "      <th>count</th>\n",
       "      <th>unique</th>\n",
       "      <th>top</th>\n",
       "      <th>freq</th>\n",
       "    </tr>\n",
       "  </thead>\n",
       "  <tbody>\n",
       "    <tr>\n",
       "      <th>state</th>\n",
       "      <td>626</td>\n",
       "      <td>44</td>\n",
       "      <td>AL</td>\n",
       "      <td>15</td>\n",
       "    </tr>\n",
       "  </tbody>\n",
       "</table>\n",
       "</div>\n",
       "      <button class=\"colab-df-convert\" onclick=\"convertToInteractive('df-8ff6d6bf-3d66-4589-9126-83b77a7d4a77')\"\n",
       "              title=\"Convert this dataframe to an interactive table.\"\n",
       "              style=\"display:none;\">\n",
       "        \n",
       "  <svg xmlns=\"http://www.w3.org/2000/svg\" height=\"24px\"viewBox=\"0 0 24 24\"\n",
       "       width=\"24px\">\n",
       "    <path d=\"M0 0h24v24H0V0z\" fill=\"none\"/>\n",
       "    <path d=\"M18.56 5.44l.94 2.06.94-2.06 2.06-.94-2.06-.94-.94-2.06-.94 2.06-2.06.94zm-11 1L8.5 8.5l.94-2.06 2.06-.94-2.06-.94L8.5 2.5l-.94 2.06-2.06.94zm10 10l.94 2.06.94-2.06 2.06-.94-2.06-.94-.94-2.06-.94 2.06-2.06.94z\"/><path d=\"M17.41 7.96l-1.37-1.37c-.4-.4-.92-.59-1.43-.59-.52 0-1.04.2-1.43.59L10.3 9.45l-7.72 7.72c-.78.78-.78 2.05 0 2.83L4 21.41c.39.39.9.59 1.41.59.51 0 1.02-.2 1.41-.59l7.78-7.78 2.81-2.81c.8-.78.8-2.07 0-2.86zM5.41 20L4 18.59l7.72-7.72 1.47 1.35L5.41 20z\"/>\n",
       "  </svg>\n",
       "      </button>\n",
       "      \n",
       "  <style>\n",
       "    .colab-df-container {\n",
       "      display:flex;\n",
       "      flex-wrap:wrap;\n",
       "      gap: 12px;\n",
       "    }\n",
       "\n",
       "    .colab-df-convert {\n",
       "      background-color: #E8F0FE;\n",
       "      border: none;\n",
       "      border-radius: 50%;\n",
       "      cursor: pointer;\n",
       "      display: none;\n",
       "      fill: #1967D2;\n",
       "      height: 32px;\n",
       "      padding: 0 0 0 0;\n",
       "      width: 32px;\n",
       "    }\n",
       "\n",
       "    .colab-df-convert:hover {\n",
       "      background-color: #E2EBFA;\n",
       "      box-shadow: 0px 1px 2px rgba(60, 64, 67, 0.3), 0px 1px 3px 1px rgba(60, 64, 67, 0.15);\n",
       "      fill: #174EA6;\n",
       "    }\n",
       "\n",
       "    [theme=dark] .colab-df-convert {\n",
       "      background-color: #3B4455;\n",
       "      fill: #D2E3FC;\n",
       "    }\n",
       "\n",
       "    [theme=dark] .colab-df-convert:hover {\n",
       "      background-color: #434B5C;\n",
       "      box-shadow: 0px 1px 3px 1px rgba(0, 0, 0, 0.15);\n",
       "      filter: drop-shadow(0px 1px 2px rgba(0, 0, 0, 0.3));\n",
       "      fill: #FFFFFF;\n",
       "    }\n",
       "  </style>\n",
       "\n",
       "      <script>\n",
       "        const buttonEl =\n",
       "          document.querySelector('#df-8ff6d6bf-3d66-4589-9126-83b77a7d4a77 button.colab-df-convert');\n",
       "        buttonEl.style.display =\n",
       "          google.colab.kernel.accessAllowed ? 'block' : 'none';\n",
       "\n",
       "        async function convertToInteractive(key) {\n",
       "          const element = document.querySelector('#df-8ff6d6bf-3d66-4589-9126-83b77a7d4a77');\n",
       "          const dataTable =\n",
       "            await google.colab.kernel.invokeFunction('convertToInteractive',\n",
       "                                                     [key], {});\n",
       "          if (!dataTable) return;\n",
       "\n",
       "          const docLinkHtml = 'Like what you see? Visit the ' +\n",
       "            '<a target=\"_blank\" href=https://colab.research.google.com/notebooks/data_table.ipynb>data table notebook</a>'\n",
       "            + ' to learn more about interactive tables.';\n",
       "          element.innerHTML = '';\n",
       "          dataTable['output_type'] = 'display_data';\n",
       "          await google.colab.output.renderOutput(dataTable, element);\n",
       "          const docLink = document.createElement('div');\n",
       "          docLink.innerHTML = docLinkHtml;\n",
       "          element.appendChild(docLink);\n",
       "        }\n",
       "      </script>\n",
       "    </div>\n",
       "  </div>\n",
       "  "
      ],
      "text/plain": [
       "      count unique top freq\n",
       "state   626     44  AL   15"
      ]
     },
     "execution_count": 11,
     "metadata": {},
     "output_type": "execute_result"
    }
   ],
   "source": [
    "df.select_dtypes(include='object').describe().T"
   ]
  },
  {
   "cell_type": "markdown",
   "id": "2xVNveQRClq7",
   "metadata": {
    "id": "2xVNveQRClq7"
   },
   "source": [
    "- Here, state is nominal feature as there is no inherent order"
   ]
  },
  {
   "cell_type": "markdown",
   "id": "edc00ead",
   "metadata": {
    "id": "edc00ead"
   },
   "source": [
    "- We have 44 unique states.\n",
    "- Most of the instances are having the state as AL"
   ]
  },
  {
   "cell_type": "markdown",
   "id": "x2iAcSwhKJtU",
   "metadata": {
    "id": "x2iAcSwhKJtU"
   },
   "source": [
    "## 3. Univariate Analysis\n",
    "\n",
    "### 3.1 Measures of Central Tendency"
   ]
  },
  {
   "cell_type": "code",
   "execution_count": null,
   "id": "vuPMvtH8Ke4w",
   "metadata": {
    "colab": {
     "base_uri": "https://localhost:8080/",
     "height": 331
    },
    "executionInfo": {
     "elapsed": 1586,
     "status": "ok",
     "timestamp": 1651216350185,
     "user": {
      "displayName": "Vikas HM",
      "userId": "18207387345907596827"
     },
     "user_tz": -330
    },
    "id": "vuPMvtH8Ke4w",
    "outputId": "efee2ab0-f20c-48ed-8e2a-24a031dbdd9e"
   },
   "outputs": [
    {
     "data": {
      "image/png": "[encoded data removed]",
      "text/plain": [
       "<Figure size 432x288 with 1 Axes>"
      ]
     },
     "metadata": {
      "needs_background": "light"
     },
     "output_type": "display_data"
    },
    {
     "name": "stdout",
     "output_type": "stream",
     "text": [
      "Mean: 62.00958466453674\n",
      "Median: 60.0\n",
      "Mode: 50\n"
     ]
    }
   ],
   "source": [
    "##Let us understand the distribution of the column 'yieldpercol'\n",
    "mean=df['yieldpercol'].mean()\n",
    "median=df['yieldpercol'].median()\n",
    "mode=df['yieldpercol'].mode().values[0]\n",
    "\n",
    "sns.distplot(df['yieldpercol'])\n",
    "plt.axvline(mean, color='r', linestyle='--', label=\"Mean\")\n",
    "plt.axvline(median, color='g', linestyle='-', label='Median')\n",
    "plt.axvline(mode, color='b', linestyle='-', label='Mode')\n",
    "plt.legend()\n",
    "plt.show()\n",
    "print('Mean:',mean)\n",
    "print(\"Median:\",median)\n",
    "print('Mode:',mode)"
   ]
  },
  {
   "cell_type": "markdown",
   "id": "aMHjeCLRKgpL",
   "metadata": {
    "id": "aMHjeCLRKgpL"
   },
   "source": [
    "----------------------\n",
    "### 3.2 Measures of dispersion\n"
   ]
  },
  {
   "cell_type": "markdown",
   "id": "dwTNpsiXKoVY",
   "metadata": {
    "id": "dwTNpsiXKoVY"
   },
   "source": [
    "- Variance: helps in understanding the degree of spread in your data."
   ]
  },
  {
   "cell_type": "code",
   "execution_count": null,
   "id": "kJjDyMkBKlAT",
   "metadata": {
    "colab": {
     "base_uri": "https://localhost:8080/"
    },
    "executionInfo": {
     "elapsed": 347,
     "status": "ok",
     "timestamp": 1651216393706,
     "user": {
      "displayName": "Vikas HM",
      "userId": "18207387345907596827"
     },
     "user_tz": -330
    },
    "id": "kJjDyMkBKlAT",
    "outputId": "6f56f80c-4c11-4c71-86d2-a75e51546adb"
   },
   "outputs": [
    {
     "data": {
      "text/plain": [
       "47387346094946.96"
      ]
     },
     "execution_count": 13,
     "metadata": {},
     "output_type": "execute_result"
    }
   ],
   "source": [
    "## Calculating the variance of the column 'totalprod'\n",
    "df['totalprod'].var()"
   ]
  },
  {
   "cell_type": "markdown",
   "id": "5oGO3G71KrRv",
   "metadata": {
    "id": "5oGO3G71KrRv"
   },
   "source": [
    "- Standard Deviation: helps in understanding of how dispersed the data is in relation to the mean"
   ]
  },
  {
   "cell_type": "code",
   "execution_count": null,
   "id": "bmCQ3nr4KrdM",
   "metadata": {
    "colab": {
     "base_uri": "https://localhost:8080/"
    },
    "executionInfo": {
     "elapsed": 349,
     "status": "ok",
     "timestamp": 1651216422456,
     "user": {
      "displayName": "Vikas HM",
      "userId": "18207387345907596827"
     },
     "user_tz": -330
    },
    "id": "bmCQ3nr4KrdM",
    "outputId": "638746b1-a0ec-4d7f-dfad-71d184f63f3d"
   },
   "outputs": [
    {
     "data": {
      "text/plain": [
       "6883846.751268288"
      ]
     },
     "execution_count": 14,
     "metadata": {},
     "output_type": "execute_result"
    }
   ],
   "source": [
    "## Standard Deviation\n",
    "df['totalprod'].std()"
   ]
  },
  {
   "cell_type": "markdown",
   "id": "S6RLEy_PKrpJ",
   "metadata": {
    "id": "S6RLEy_PKrpJ"
   },
   "source": [
    "- Range: Largest value- smallest value in a set of data"
   ]
  },
  {
   "cell_type": "code",
   "execution_count": null,
   "id": "atVIzrTpKrzz",
   "metadata": {
    "colab": {
     "base_uri": "https://localhost:8080/"
    },
    "executionInfo": {
     "elapsed": 354,
     "status": "ok",
     "timestamp": 1651216441558,
     "user": {
      "displayName": "Vikas HM",
      "userId": "18207387345907596827"
     },
     "user_tz": -330
    },
    "id": "atVIzrTpKrzz",
    "outputId": "c673fc77-eb04-4ba7-af7d-50badb111918"
   },
   "outputs": [
    {
     "name": "stdout",
     "output_type": "stream",
     "text": [
      "largest value: 46410000.0\n",
      "smallest value: 84000.0\n",
      "range: 46326000.0\n"
     ]
    }
   ],
   "source": [
    "## Range\n",
    "print('largest value:',df['totalprod'].max())\n",
    "print('smallest value:',df['totalprod'].min())\n",
    "print('range:',df['totalprod'].max()-df['totalprod'].min())"
   ]
  },
  {
   "cell_type": "markdown",
   "id": "WinkQYXRK2dM",
   "metadata": {
    "id": "WinkQYXRK2dM"
   },
   "source": [
    "- Interquartile range: Q3-Q1 (3rd quartile - first quartile)\n",
    "\n"
   ]
  },
  {
   "cell_type": "code",
   "execution_count": null,
   "id": "2qQ15pAzK2un",
   "metadata": {
    "colab": {
     "base_uri": "https://localhost:8080/"
    },
    "executionInfo": {
     "elapsed": 374,
     "status": "ok",
     "timestamp": 1651216467853,
     "user": {
      "displayName": "Vikas HM",
      "userId": "18207387345907596827"
     },
     "user_tz": -330
    },
    "id": "2qQ15pAzK2un",
    "outputId": "80ab951e-e345-436e-aa47-70896a3c6423"
   },
   "outputs": [
    {
     "name": "stdout",
     "output_type": "stream",
     "text": [
      "Q1: 475000.0\n",
      "Q2: 1533000.0\n",
      "Q3: 4175250.0\n",
      "~~~~~~~~~~~~~~~\n",
      "IQR: 3700250.0\n"
     ]
    }
   ],
   "source": [
    "## IQR\n",
    "Q1 = df['totalprod'].quantile(0.25)\n",
    "Q2 = df['totalprod'].quantile(0.50)\n",
    "Q3 = df['totalprod'].quantile(0.75)\n",
    "IQR = Q3-Q1\n",
    "print('Q1:',Q1)\n",
    "print('Q2:',Q2)\n",
    "print('Q3:',Q3)\n",
    "print('~'*15)\n",
    "print('IQR:',IQR)"
   ]
  },
  {
   "cell_type": "markdown",
   "id": "NNhP4xCOLGKM",
   "metadata": {
    "id": "NNhP4xCOLGKM"
   },
   "source": [
    "## 4. Univariate Analysis Using Visualization\n",
    "\n",
    "### 4.1 Categorical Variable"
   ]
  },
  {
   "cell_type": "markdown",
   "id": "-4QMgxFBMmiY",
   "metadata": {
    "id": "-4QMgxFBMmiY"
   },
   "source": [
    "#### Lets understand the percentage of distribution of the data in each year"
   ]
  },
  {
   "cell_type": "code",
   "execution_count": 44,
   "id": "q2auggHKLGa2",
   "metadata": {
    "colab": {
     "base_uri": "https://localhost:8080/",
     "height": 253
    },
    "executionInfo": {
     "elapsed": 633,
     "status": "ok",
     "timestamp": 1651218155590,
     "user": {
      "displayName": "Vikas HM",
      "userId": "18207387345907596827"
     },
     "user_tz": -330
    },
    "id": "q2auggHKLGa2",
    "outputId": "6b19a00f-ba49-4fa9-c4f6-c780b50bac79"
   },
   "outputs": [
    {
     "data": {
      "image/png": "[encoded data removed]",
      "text/plain": [
       "<Figure size 432x288 with 1 Axes>"
      ]
     },
     "metadata": {},
     "output_type": "display_data"
    }
   ],
   "source": [
    "df['year'].value_counts().plot(kind='pie',autopct='%1.1f%%', explode=[0.3,0.3,0.3,0,0,0,0,0,0,0,0,0,0,0,0],shadow=True)\n",
    "plt.show()"
   ]
  },
  {
   "cell_type": "markdown",
   "id": "KhFcqJnfLih3",
   "metadata": {
    "id": "KhFcqJnfLih3"
   },
   "source": [
    "### 4.2 Numerical Variable"
   ]
  },
  {
   "cell_type": "markdown",
   "id": "5eWX7dXZNrV3",
   "metadata": {
    "id": "5eWX7dXZNrV3"
   },
   "source": [
    "#### Let us understand the distribution of the variable \"priceperlb\""
   ]
  },
  {
   "cell_type": "code",
   "execution_count": null,
   "id": "dqfPvcscLmGy",
   "metadata": {
    "colab": {
     "base_uri": "https://localhost:8080/",
     "height": 279
    },
    "executionInfo": {
     "elapsed": 981,
     "status": "ok",
     "timestamp": 1651217167868,
     "user": {
      "displayName": "Vikas HM",
      "userId": "18207387345907596827"
     },
     "user_tz": -330
    },
    "id": "dqfPvcscLmGy",
    "outputId": "3a52a4f7-e088-43b2-8341-aacf84887114"
   },
   "outputs": [
    {
     "data": {
      "image/png": "[encoded data removed]",
      "text/plain": [
       "<Figure size 432x288 with 1 Axes>"
      ]
     },
     "metadata": {
      "needs_background": "light"
     },
     "output_type": "display_data"
    }
   ],
   "source": [
    "sns.distplot(df['priceperlb'])\n",
    "plt.show()"
   ]
  },
  {
   "cell_type": "markdown",
   "id": "pkOeeSRmNpw7",
   "metadata": {
    "id": "pkOeeSRmNpw7"
   },
   "source": [
    "- We can observe from the above distribution plot, the priceperlb value is ranging from 0 to 4.5 dollars\n",
    "- And also the we can observe that the most of the records fall in between 0.5 to 1.5 dollars range"
   ]
  },
  {
   "cell_type": "markdown",
   "id": "0fd8e4c9",
   "metadata": {
    "id": "0fd8e4c9"
   },
   "source": [
    "--------------\n",
    "## Happy Learning :)\n",
    "--------------"
   ]
  }
 ],
 "metadata": {
  "kernelspec": {
   "display_name": "Python 3 (ipykernel)",
   "language": "python",
   "name": "python3"
  },
  "language_info": {
   "codemirror_mode": {
    "name": "ipython",
    "version": 3
   },
   "file_extension": ".py",
   "mimetype": "text/x-python",
   "name": "python",
   "nbconvert_exporter": "python",
   "pygments_lexer": "ipython3",
   "version": "3.9.13"
  }
 },
 "nbformat": 4,
 "nbformat_minor": 5
}
